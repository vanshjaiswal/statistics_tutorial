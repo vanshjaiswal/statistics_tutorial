{
 "cells": [
  {
   "cell_type": "markdown",
   "id": "19951ad4",
   "metadata": {},
   "source": []
  },
  {
   "cell_type": "markdown",
   "id": "394309a9",
   "metadata": {},
   "source": [
    "Statistics"
   ]
  },
  {
   "cell_type": "code",
   "execution_count": null,
   "id": "404e0a59",
   "metadata": {},
   "outputs": [],
   "source": [
    "'''\n",
    "\n",
    "Stats is the art of learning from the data.\n",
    "\n",
    "Major branches of Stats:\n",
    "\n",
    "1: Descriptive Stats(understand the description and summarization)\n",
    "2: Inferencial Stats(conclusion from the data)\n",
    "\n",
    "Population: It is the total collection of all the elements that we are interested\n",
    "in is called population.\n",
    "\n",
    "Sample: A subgroup of population that we will study in detail is called sample.\n",
    "\n",
    "******Sample would be the correct representation of Population.*******\n",
    "\n",
    "'''"
   ]
  },
  {
   "cell_type": "code",
   "execution_count": 1,
   "id": "7eea7391",
   "metadata": {},
   "outputs": [
    {
     "data": {
      "text/plain": [
       "'\\nDATA:\\ni)  Categorical Data\\nii) Numerical Data\\n\\nNumerical DataL:\\na) Continuous Numerical Data\\nb) Discrete Numerical Data\\n\\n'"
      ]
     },
     "execution_count": 1,
     "metadata": {},
     "output_type": "execute_result"
    }
   ],
   "source": [
    "'''\n",
    "DATA: (Structured Data and Unstructured Data)\n",
    "i)  Categorical Data (Qualitative data, Group Membership, Cannot apply arithmatic operation, alphanumeric, Names/Labels)\n",
    "(Group membership: all the outcomes/rows must belong to at least 1 category and no outcome should belong from more than category)\n",
    "\n",
    "ii) Numerical Data (Quantitative Data, apply Arithmatic Operation, always contains only numbers )\n",
    "\n",
    "Numerical Data:\n",
    "a) Continuous Numerical Data (meaurement) float\n",
    "b) Discrete Numerical Data (count) int\n",
    "\n",
    "'''\n"
   ]
  },
  {
   "cell_type": "code",
   "execution_count": null,
   "id": "915ce91f",
   "metadata": {},
   "outputs": [],
   "source": [
    "'''\n",
    "There are 4 scales of measurement:\n",
    "\n",
    "Categorical Data: \n",
    "    1: Nominal Scale (labels or Names, There should not be any order)\n",
    "    \n",
    "    2: Ordinal Scale (data exhibits the proerpties of the nominal data but have some meaningful \n",
    "    order then it is called ordinal data.)\n",
    "    (you cannot perform arithmatical operations)\n",
    "\n",
    "\n",
    "\n",
    "Numerical Data:\n",
    "    3: Interval Scale \n",
    "    (Fixed unit of measure,interval data is always numeric you can find  the diff between \n",
    "    two data points.\n",
    "    Ratio of values have no meaning here because the zero value is arbitary.)\n",
    "    (Numericals value that can be added and subtracted.)\n",
    "    \n",
    "    \n",
    "    4: Ratio  Scale \n",
    "    (If the data have all the properties of interval scale and the ratio of two value is meaningful . absolute zero is present.)\n",
    "    (Numerical values that can be added subtracted multiplied and divide (ratio comparison is possible.))\n",
    "\n",
    "\n",
    "'''"
   ]
  },
  {
   "cell_type": "code",
   "execution_count": null,
   "id": "df508b3f",
   "metadata": {},
   "outputs": [],
   "source": []
  },
  {
   "cell_type": "code",
   "execution_count": null,
   "id": "b3ca4788",
   "metadata": {},
   "outputs": [],
   "source": [
    "'''\n",
    "restaurnt food: Italian Penne Pasta\n",
    "\n",
    "Bad - 120\n",
    "\n",
    "Good - 145\n",
    "\n",
    "Excellent - 40\n",
    "\n",
    "\n",
    "\n",
    "Water temp:\n",
    "\n",
    "Cold\n",
    "\n",
    "Warm\n",
    "\n",
    "Hot\n",
    "\n",
    "\n",
    "\n",
    "'''"
   ]
  },
  {
   "cell_type": "code",
   "execution_count": null,
   "id": "22750049",
   "metadata": {},
   "outputs": [],
   "source": [
    "'''\n",
    "Categorical Data\n",
    "\n",
    "Describing the catgorical Data:- Numerical Summary and Graphical Summary \n",
    "\n",
    "Frequency Distribution: A frequency distribution of a qualitative data is a listing of the distinct values and their\n",
    "frequency(Count). Create a frequency distribution table.\n",
    "\n",
    "Relative Frequency: The ratio of individual Frequency to the total number of observation. \n",
    "the total sum of relative frequency is 1.\n",
    "it converts your frequency in the range of 0-1\n",
    "\n",
    "Charts of Categorical Data.\n",
    "\n",
    "i) Pie Chart: A pie chart is a circle divided into pieces(Wedge) and propotional to the relative frequency of \n",
    "the qualitative Data.\n",
    "\n",
    "ii) Bar Chart: The frequency/relative frequency of each distinct value is represented by a vertical bar where\n",
    "height of the bar is equal to  the frequency/relative frequency of that value.\n",
    "\n",
    "pareto Chart: When the category of the bar chart are arranged in ascending or  descending order of frequency \n",
    "then it is called as pareto chart.\n",
    "\n",
    "\n",
    "'''"
   ]
  },
  {
   "cell_type": "markdown",
   "id": "16e21ac5",
   "metadata": {},
   "source": [
    "# Best practices while graphing the data"
   ]
  },
  {
   "cell_type": "markdown",
   "id": "b2ae104e",
   "metadata": {},
   "source": [
    "Know your purpose"
   ]
  },
  {
   "cell_type": "code",
   "execution_count": null,
   "id": "78ac40ce",
   "metadata": {},
   "outputs": [],
   "source": [
    "'''\n",
    "Best practices while graphing the data\n",
    "Know your purpose\n",
    "i) Pie chart are best to use when you are trying to compare parts of a whole.(share)\n",
    "\n",
    "ii) Bar grapgh are used to compare things between different groups/class.\n",
    "\n",
    "\n",
    "\n",
    "'''"
   ]
  },
  {
   "cell_type": "markdown",
   "id": "606d1342",
   "metadata": {},
   "source": [
    "Best practices"
   ]
  },
  {
   "cell_type": "code",
   "execution_count": null,
   "id": "31cbce50",
   "metadata": {},
   "outputs": [],
   "source": [
    "'''\n",
    "LABEL YOUR DATA:\n",
    "\n",
    "label your chart to show  the categories and indicate whether some have been combined or omitted.\n",
    "\n",
    "The area principle: the area occupied by a part of the graph should correspond to the amount of data.\n",
    "\n",
    "decorated graphs:\n",
    "\n",
    "Violation of the base line.\n",
    "\n",
    "Rounding off errors\n",
    "\n",
    "\n",
    "'''"
   ]
  },
  {
   "cell_type": "markdown",
   "id": "6c92817f",
   "metadata": {},
   "source": [
    "# Mode and Median of Categorical Data \n"
   ]
  },
  {
   "cell_type": "code",
   "execution_count": null,
   "id": "77c6fbb8",
   "metadata": {},
   "outputs": [],
   "source": [
    "'''\n",
    "\n",
    "Meausre of central Tendency: Descriptive meausres that indicates where the most typical values or centre value of a data lies.\n",
    "\n",
    "\n",
    "median\n",
    "mode\n",
    "\n",
    "'''"
   ]
  },
  {
   "cell_type": "markdown",
   "id": "ffb4caa8",
   "metadata": {},
   "source": [
    "# Mode"
   ]
  },
  {
   "cell_type": "code",
   "execution_count": null,
   "id": "b1bbb461",
   "metadata": {},
   "outputs": [],
   "source": [
    "'''\n",
    "The mode of a categorical variable is the most common category (highest number of occurence), \n",
    "the category with highest frequency.\n",
    "\n",
    "The labels of mode:\n",
    "\n",
    "1) The longest bar in a bar chart \n",
    "2) The widest slice in a pie chart\n",
    "3) In a pareto chart, The mode is first/last category\n",
    "\n",
    "Bimodal and Multimodal data.\n",
    "\n",
    "if two categories tie for the highest frequency the data are said to be bimodal. if more than two\n",
    "then it is called as multimodal.\n",
    "\n",
    "'''"
   ]
  },
  {
   "cell_type": "markdown",
   "id": "4c7acd77",
   "metadata": {},
   "source": [
    "# Median"
   ]
  },
  {
   "cell_type": "code",
   "execution_count": null,
   "id": "b9888f0f",
   "metadata": {},
   "outputs": [],
   "source": [
    "'''\n",
    "Ordinal scale of data offer another summary, the Median.\n",
    "\n",
    "Median: The median of an ordinal varibale is the category of the middle observation of the SORTED VALUES.\n",
    "\n",
    "\n",
    "if there are an even number of observations, choose the category on either side of the middle of the sorted list\n",
    "as the median.\n",
    "\n",
    "ODD:(n+1) / 2\n",
    "where n = no. of observations.\n",
    "\n",
    "EVEN: n/2 \n",
    "\n",
    "why Median ?\n",
    "\n",
    "The case of a median when you have ordered data.\n",
    "for eg: If this ABCD with sizes, then you would have said that this particular size dividies the data into two halves.\n",
    "upper half and lower half (you can say that 50% data is grater than this and 50 % is smaller than this.)\n",
    "so, median in some sense gives the meausre of central tendency.\n",
    "\n",
    "'''"
   ]
  },
  {
   "cell_type": "markdown",
   "id": "bf6740ec",
   "metadata": {},
   "source": [
    "# Describing numerical Data"
   ]
  },
  {
   "cell_type": "code",
   "execution_count": null,
   "id": "a01dcd11",
   "metadata": {},
   "outputs": [],
   "source": [
    "'''\n",
    "Numerical Data: \n",
    "i) Discrete data (Set of Integers)\n",
    "ii) Continuous data (Set of Real numbers)\n",
    "\n",
    "Organising Numerical Data:\n",
    "i) organising Discrete data\n",
    "ii) Organsing Coninuous Data\n",
    "'''"
   ]
  },
  {
   "cell_type": "markdown",
   "id": "37c855bf",
   "metadata": {},
   "source": [
    "# Organising discrete data"
   ]
  },
  {
   "cell_type": "code",
   "execution_count": null,
   "id": "3950d8f2",
   "metadata": {},
   "outputs": [],
   "source": [
    "'''\n",
    "Suppose the dataset represents number of people in a 15 household.\n",
    "\n",
    "\n",
    "Steps:\n",
    "First group the observation into classes (also known as Categories or bins) and then treat the classes  as the distinct values\n",
    "of the qualitative data.\n",
    "\n",
    "Once we group the qulaitative data into classes we can construct the freq and r_freq table .\n",
    "\n",
    "'''"
   ]
  },
  {
   "cell_type": "code",
   "execution_count": null,
   "id": "ac506867",
   "metadata": {},
   "outputs": [],
   "source": [
    "'''\n",
    "Number of classes:\n",
    "\n",
    "1:The appropriate number is subjective choice.  The rule of thumb is to have between 5 and 20.\n",
    "\n",
    "\"\"IMPORTANT !!!!\"\" 2: Each observation should belong to some class and no obersvation should belong to more than one class.\n",
    "\n",
    "3: It is common, although not essential to choose class intervals of equal length.\n",
    "\n",
    "Some new terms: [0-10), [10-20), [20, 70), [70, 100)\n",
    "\n",
    "1) Lower class limit: The smallest value that could go in class.\n",
    "\n",
    "2) upper Class limit: The largest value that could go in class.\n",
    "\n",
    "3) Class Width: The difference between the lower limit of a class and the lower limit of next higher of the class.\n",
    "\n",
    "4) Class mark: The avg of the two class limits of a class.\n",
    "\n",
    "[], ()\n",
    "\n",
    "[___)\n",
    "'''"
   ]
  },
  {
   "cell_type": "markdown",
   "id": "2e1b83c7",
   "metadata": {},
   "source": [
    "# Histogram"
   ]
  },
  {
   "cell_type": "code",
   "execution_count": null,
   "id": "eedb8c3c",
   "metadata": {},
   "outputs": [],
   "source": [
    "'''\n",
    "Histogram is one of the most popular graphical summary of a continuos data.\n",
    "\n",
    "Steps: \n",
    "\n",
    "1) Obtain a frquency (R_frq) distribution of the data\n",
    "\n",
    "2) Draw a horizontal axis on which to place the classes and vertical axis on which to display the frequency.\n",
    "\n",
    "3) For each class, Construct a vertical BAR whose height equals the freq (R_freq) of the class.\n",
    "\n",
    "4) One bar is overlapping with next bar based on the class lower limit of the next higher class. \n",
    "then label the bar with freq(r_freq) !!!! IMPORTANT !!!!\n",
    "\n",
    "'''"
   ]
  },
  {
   "cell_type": "markdown",
   "id": "9af2713c",
   "metadata": {},
   "source": [
    "# Measure of Central Tendency for Numerical data "
   ]
  },
  {
   "cell_type": "code",
   "execution_count": null,
   "id": "b4bd4e9b",
   "metadata": {},
   "outputs": [],
   "source": [
    "'''\n",
    "The objective is to develop a meausre that can be used to summarize a data set.\n",
    "\n",
    "it tells us what can we expect as a typical value of a data set.\n",
    "\n",
    "i) Mean\n",
    "2) Median\n",
    "3) Mode\n",
    "\n",
    "\n",
    "\n",
    "\n",
    "'''"
   ]
  },
  {
   "cell_type": "markdown",
   "id": "b7886cbf",
   "metadata": {},
   "source": [
    "# Mean"
   ]
  },
  {
   "cell_type": "code",
   "execution_count": null,
   "id": "96c0cb4a",
   "metadata": {},
   "outputs": [],
   "source": [
    "'''\n",
    "The mean of a data set is the sum of the observation(each row) divided by the total number observations..\n",
    "\n",
    "1) The mean is usually referred as the AVERAGE\n",
    "\n",
    "2) Arithmatic Avg: Divide the sum of the values by the number of values.\n",
    "\n",
    "########   Mean for discrete Obeservation\n",
    "\n",
    "sample mean X(bar) = (x1+x2+.......+xn)/n where: n=number of observation, xi= ith value of the observation.\n",
    "\n",
    "Population mean u(meu) = (x1+x2+.......+xN)/N where: N=number of observation, xi= ith value of the observation.\n",
    "\n",
    "IMPORTANT !!\n",
    "\n",
    "************ Means are very sensitive to the Outlier. ******************\n",
    "\n",
    "\n",
    "######## How change in data affects the mean.\n",
    "\n",
    "i) Adding a constant in each observation(rows).\n",
    "\n",
    "        NEW MEAN = OLD MEAN + Constant\n",
    "        \n",
    "ii) Multiplying with a constant\n",
    "\n",
    "        NEW MEAN = OLD MEAN * Constant\n",
    "\n",
    "'''"
   ]
  },
  {
   "cell_type": "markdown",
   "id": "23a63296",
   "metadata": {},
   "source": [
    "# Median of Numercial Data "
   ]
  },
  {
   "cell_type": "code",
   "execution_count": null,
   "id": "60319d02",
   "metadata": {},
   "outputs": [],
   "source": [
    "'''\n",
    "Median: Another frequency used measure of center is the median, essentially the median of a data set is the number that divides\n",
    "the bottom 50% of the data from the top 50%.\n",
    "\n",
    "Defition: The median of a data is the middle values in its ordered list.\n",
    "\n",
    "Steps:\n",
    "\n",
    "Arrange the data in increasing order. Let n be the total number of observation in the dataset.\n",
    "\n",
    "1) If the number of observation is odd, then the median is the observation exactly in the middle of the of the ordered list\n",
    "     (n+1)/2 observation.\n",
    "    \n",
    "2) if n is even, then the median is the mean of the two middle observations in the ordered list.\n",
    "    mean of (n/2)th and ((n/2)+1)th observation.\n",
    "\n",
    "############# Median are not very sensitive to the Outlier. ##################\n",
    "\n",
    "#####MEDIAN MAY NOT BELONG TO THE DATA SET\n",
    "\n",
    "######## How change in data affects the median.\n",
    "\n",
    "i) Adding a constant in each observation(rows).\n",
    "\n",
    "        NEW MEDIAN = OLD MEDIAN + Constant\n",
    "        \n",
    "ii) Multiplying with a constant\n",
    "\n",
    "        NEW MEDIAN = OLD MEDAIN * Constant\n",
    "'''"
   ]
  },
  {
   "cell_type": "markdown",
   "id": "ae2d9077",
   "metadata": {},
   "source": [
    "# MODE of Numerical Data "
   ]
  },
  {
   "cell_type": "code",
   "execution_count": null,
   "id": "2d70658a",
   "metadata": {},
   "outputs": [],
   "source": [
    "'''\n",
    "\n",
    "Definition: The mode of a data set is its most frequently occuring value. \n",
    "\n",
    "Steps to obtain the mode:\n",
    "\n",
    "1: If no value occurs  more than once, then the data set has no modes.\n",
    "\n",
    "2: The value that occurs with the greatest frequency is a mode of a data set.\n",
    "\n",
    "######## How change in data affects the mode.\n",
    "\n",
    "i) Adding a constant in each observation(rows).\n",
    "\n",
    "        NEW MODE = OLD MODE + Constant\n",
    "        \n",
    "ii) Multiplying with a constant\n",
    "\n",
    "        NEW MODE = OLD MODE * Constant\n",
    "\n",
    "'''"
   ]
  },
  {
   "cell_type": "code",
   "execution_count": null,
   "id": "ad1378ae",
   "metadata": {},
   "outputs": [],
   "source": [
    "'''\n",
    "The weather department forecasted the temperature of city for the next 10 days. temperature are \n",
    "32.1,29.3,27.5,32,24.5,31,19,18.6,25.6,22. the devaition in the forecasted temperature from the actual temperature is 2.5\n",
    "(for eg. forecasted is 32.1 so the actual temperature is may be (32.1 + 2.5= 34.6) or (32.1-2.5=29.6)). \n",
    "\n",
    "1: Calculate the mean, median and mode  of the forecasted temperature\n",
    "2: Calculate the mean, median for positive deviation.\n",
    "3: Calculate the mean, median for negative deviation.\n",
    "\n",
    "'''"
   ]
  },
  {
   "cell_type": "markdown",
   "id": "376df781",
   "metadata": {},
   "source": [
    "# MEASURE OF DISPERSION"
   ]
  },
  {
   "cell_type": "code",
   "execution_count": null,
   "id": "f7d40931",
   "metadata": {},
   "outputs": [],
   "source": [
    "'''\n",
    "We have another measure for understanding the data and it is called measure of dispersion.\n",
    "\n",
    "We use a descriptive measures that indicates the amount of \"variation\" or \"Spread\" in a dataset.\n",
    "\n",
    "Such descriptive measueres are refered as :\n",
    "1) measure of Dispersion\n",
    "2) measure of Variation\n",
    "3) measure of Spread\n",
    "\n",
    "\n",
    "We have four measures of Dispersion:\n",
    "\n",
    "1) Range\n",
    "2) Variance\n",
    "3) Standard Devation \n",
    "4) Interquartile Range: Percentiles, Quartiles, Interquartile  range (IQR), Five Number Summary, Box plot, Outliers\n",
    "\n",
    "####### Correlation and Covariance of the data.\n",
    "\n",
    "# Probabilty and some basic distributions. Uniform distribution, Normal Distribution, Binomial distribution, Exponentional and Poisson distribution.\n",
    "\n",
    "# machine learning.\n",
    "\n",
    "\n",
    "\n",
    "\n",
    "'''"
   ]
  },
  {
   "cell_type": "markdown",
   "id": "f9ad302a",
   "metadata": {},
   "source": [
    "# Range"
   ]
  },
  {
   "cell_type": "code",
   "execution_count": null,
   "id": "a018b499",
   "metadata": {},
   "outputs": [],
   "source": [
    "'''\n",
    "\n",
    "Defn: The Range of a dataset defines as the difference between its largest and smallest values.\n",
    "        \n",
    "        Range = max_value(data_set) - min_value(Data_set)\n",
    "\n",
    "Note: Range is very Sensitive to the Outliers.\n",
    "\n",
    "'''"
   ]
  },
  {
   "cell_type": "markdown",
   "id": "1f479ccf",
   "metadata": {},
   "source": [
    "# VARIANCE"
   ]
  },
  {
   "cell_type": "code",
   "execution_count": null,
   "id": "d3dfe93f",
   "metadata": {},
   "outputs": [],
   "source": [
    "'''\n",
    "In contrast to the range, the variance takes into account all the observations.\n",
    "\n",
    "#### One way of measuring the variability of a data set is to consider the deviations of the \n",
    "data value from the centre value.\n",
    "\n",
    "\n",
    "\n",
    "'''"
   ]
  },
  {
   "cell_type": "markdown",
   "id": "454a1690",
   "metadata": {},
   "source": [
    "# Standard Deviation"
   ]
  },
  {
   "cell_type": "code",
   "execution_count": null,
   "id": "e65e72de",
   "metadata": {},
   "outputs": [],
   "source": [
    "'''\n",
    "\n",
    "Standard deviation is the square root of sample variance and it is called sample standard deviation.\n",
    "\n",
    "\n",
    "Standard deviation is the square root of Population variance and it is called Population standard deviation.\n",
    "\n",
    "\n",
    "Units of Standard Deviation:\n",
    "\n",
    "The avg of a data set have same units as that of the original data.\n",
    "\n",
    "The unit of variance is the square of the unit of original variable.\n",
    "\n",
    "The Sample Standard devaition is measured in the same units as the original Data.\n",
    "\n",
    "\n",
    "'''"
   ]
  },
  {
   "cell_type": "code",
   "execution_count": null,
   "id": "be6e0f93",
   "metadata": {},
   "outputs": [],
   "source": [
    "p=0.8"
   ]
  },
  {
   "cell_type": "markdown",
   "id": "47c80f3f",
   "metadata": {},
   "source": [
    "# Percentiles"
   ]
  },
  {
   "cell_type": "code",
   "execution_count": null,
   "id": "c5dad4fd",
   "metadata": {},
   "outputs": [],
   "source": [
    "'''\n",
    "\n",
    "The sample 100p percentile is that data value having the property that at least 100p percent data of the data are less than or \n",
    "equal to it and at least 100(1-p) percent of data values are greater than or equal to it.\n",
    "\n",
    "p value range between 0-1\n",
    "Computing Percentiles:\n",
    "\n",
    "To find the sample 100p percentile of a data set of size n.\n",
    "\n",
    "Steps:\n",
    "\n",
    "1) Arrange the data in increasing order.p(0-1)\n",
    "1.1) find n*p\n",
    "2) If np is not an integer, determine the smallest integer greater than np. The data value in that position is the\n",
    " sample 100p percentile.\n",
    " \n",
    " p=1/2, n=5.\n",
    "      np= 5/2= 2.5 = 3\n",
    "      \n",
    "      This will gives you 100p percentile or the 50% percentile or the median.\n",
    "\n",
    "3) if np is an integer, then the avg of the value in positions np and np+1 is the sample 100p percentile.\n",
    "\n",
    "    n=6, p=0.5, np=3\n",
    "    \n",
    "    (3rd data + 4th data)/2 \n",
    "\n",
    "\n",
    "\n",
    "'''"
   ]
  },
  {
   "cell_type": "code",
   "execution_count": null,
   "id": "5eb46d9e",
   "metadata": {},
   "outputs": [],
   "source": [
    "'''\n",
    "DOMAIN\n",
    "DATA COLLECTION\n",
    "NUMBER OF CLUSTERS\n",
    "\n",
    "\n",
    "\n",
    "'''"
   ]
  },
  {
   "cell_type": "markdown",
   "id": "7aee4abf",
   "metadata": {},
   "source": [
    "# Quartiles"
   ]
  },
  {
   "cell_type": "code",
   "execution_count": null,
   "id": "62c427e9",
   "metadata": {},
   "outputs": [],
   "source": [
    "'''\n",
    "\n",
    "1) The sample 25th Percentile is called the first Quartile.\n",
    "\n",
    "2) The sample 50th Percentile is called the Second Quartile.\n",
    "\n",
    "3) The Sample 75th Perrcentile is called the Thrid Quartile.\n",
    "\n",
    "\n",
    "        Q1 --> First Quartile (Lower)\n",
    "        \n",
    "        Q2 --> Second Quartile (Median)\n",
    "        \n",
    "        Q3 --> Third Quartile (Upper)\n",
    "\n",
    "\n",
    "Definition: The quartile break up a data set into four parts with about 25% of data value being less than the first(lower)\n",
    "            quartile, about 25% being between the first and second quartile(Median), about 25% data between the second and \n",
    "            third quartile (Upper)  and about 25% data being larger than the third quartile.\n",
    "\n",
    "############## FIVE NUMBER SUMMARY\n",
    "\n",
    "Any descriptive statitics most of the summaries are given by what we refer as a five number summary.\n",
    "\n",
    "                        Min\n",
    "                        Q1\n",
    "                        Q2(median)\n",
    "                        Q3\n",
    "                        MAX\n",
    "                        \n",
    "                        \n",
    "It is a good way of summarising the data.                     \n",
    "                        \n",
    "'''"
   ]
  },
  {
   "cell_type": "markdown",
   "id": "bbf6be91",
   "metadata": {},
   "source": [
    "# Interquartile Range"
   ]
  },
  {
   "cell_type": "code",
   "execution_count": null,
   "id": "b436d07f",
   "metadata": {},
   "outputs": [],
   "source": [
    "'''\n",
    "The Interquartile range (IQR) is the differnce between the first and the Third Quartile.\n",
    "\n",
    "        IQR = Q3 - Q1\n",
    "\n",
    "Interquartile is also a measure of Dispersion.\n",
    "\n",
    "\n",
    "'''"
   ]
  },
  {
   "cell_type": "markdown",
   "id": "65fa3cbc",
   "metadata": {},
   "source": [
    "# Outliers "
   ]
  },
  {
   "cell_type": "code",
   "execution_count": null,
   "id": "d38e9c91",
   "metadata": {},
   "outputs": [],
   "source": [
    "\n",
    "'''\n",
    "\n",
    "Defn: Any data point in the dataset which is anamolus or may have large deviation from the normal range of data.\n",
    "\n",
    "datapoint 'd'\n",
    "\n",
    "        Q3 + 1.5(IQR) < OUTLIER \n",
    "        \n",
    "        OUTLIER < Q1 - 1.5(IQR)\n",
    "'''\n",
    "\n",
    "\n"
   ]
  },
  {
   "cell_type": "markdown",
   "id": "93726f71",
   "metadata": {},
   "source": [
    "# BOX PLOT "
   ]
  },
  {
   "cell_type": "code",
   "execution_count": null,
   "id": "9e377bfb",
   "metadata": {},
   "outputs": [],
   "source": [
    "'''\n",
    "\n",
    "Box plot/ Box and whishker plot/ Candle stick Chart.\n",
    "\n",
    "It is a plot to represent the five number summary.\n",
    "\n",
    "1) In box plot we draw a rectangular box from Q3 to Q1.\n",
    "\n",
    "2) Now, Draw vertical line from Q3 to max and Q1 to min.\n",
    "\n",
    "3) Draw the median (Q2) as a line in rectangluar box.\n",
    "\n",
    "\n",
    "'''"
   ]
  },
  {
   "cell_type": "markdown",
   "id": "93895eef",
   "metadata": {},
   "source": [
    "# Association of variables"
   ]
  },
  {
   "cell_type": "markdown",
   "id": "7070e3c2",
   "metadata": {},
   "source": [
    "# Covariance and Correlation"
   ]
  },
  {
   "cell_type": "code",
   "execution_count": null,
   "id": "8a9f5a8e",
   "metadata": {},
   "outputs": [],
   "source": [
    "'''\n",
    "\n",
    "Covariance: \n",
    "\n",
    "Defn: Let xi denote the (i)th observation of Variable Xi, yi denotes the\n",
    "    i(th) observation of variable Yi.\n",
    "        \n",
    "let (xi, yi) be the (i)th paired observation of a sample dataset having 'n'\n",
    "observations. then the covariance can be find as: \n",
    "\n",
    "                Formula:\n",
    "\n",
    "\n",
    "When two variables are moving in same direction the covariance is called positive covariance.\n",
    "\n",
    "When two variable are moving in the opposite direction (One increases other decreases) then the covariance is negative covariance.\n",
    "\n",
    "Covariance gives the size of association.\n",
    "\n",
    "KEYS:\n",
    "\n",
    "1) When large value of x tend to be associated with the large value of y and\n",
    "    the small value of x tend to be associated with the small value of y. \n",
    "    then sign of deviations (xi-x(bar)) and (yi-y(bar)) will also tend to be same.\n",
    "    \n",
    "2)When large value of x tend to be associated with the small value of y and\n",
    "    the small value of x tend to be associated with the large value of y. \n",
    "    then sign of deviations (xi-x(bar)) and (yi-y(bar)) will be different.\n",
    "    \n",
    "\n",
    "\n",
    "\n",
    "'''"
   ]
  },
  {
   "cell_type": "markdown",
   "id": "3c1f509d",
   "metadata": {},
   "source": [
    "# Correlation"
   ]
  },
  {
   "cell_type": "code",
   "execution_count": null,
   "id": "1fedde79",
   "metadata": {},
   "outputs": [],
   "source": [
    "'''\n",
    "\n",
    "(More easily measure linear association)\n",
    "To find the correlation between two variable X and Y, Divide the Covariance of between X and Y by the\n",
    "product of Standard deviation of X and Y.\n",
    "\n",
    "The Pearson Correlation Coefficient, denoted as 'r'.\n",
    "\n",
    "\n",
    "\n",
    "\n",
    "\n",
    "'''"
   ]
  },
  {
   "cell_type": "markdown",
   "id": "36f73baa",
   "metadata": {},
   "source": [
    "# Probability"
   ]
  },
  {
   "cell_type": "markdown",
   "id": "985261f4",
   "metadata": {},
   "source": [
    "# '''\n",
    "\n",
    "1) Basic probability\n",
    "2) probabilty axioms\n",
    "3) Probaility Theroy and properties\n",
    "4) Conditional Probabilty\n",
    "5) Bayes' Theorem.\n",
    "\n",
    "\n",
    "'''"
   ]
  },
  {
   "cell_type": "markdown",
   "id": "638cad20",
   "metadata": {},
   "source": [
    "# Random Experiment"
   ]
  },
  {
   "cell_type": "code",
   "execution_count": null,
   "id": "fa456dfa",
   "metadata": {},
   "outputs": [],
   "source": [
    "'''\n",
    "An experiment is any process that produces an observation or an outcome.\n",
    "\n",
    "A random experiment is an experiment whose outcome is not predictable with certainity. (Uncertain output)\n",
    "\n",
    "Remark: However, although the outcome of the exp will not be known in advance, \n",
    "let us suppose that the set of all possible outcomes is known, but we dont know the exact outcome.\n",
    "\n",
    "'''"
   ]
  },
  {
   "cell_type": "markdown",
   "id": "2b79d281",
   "metadata": {},
   "source": [
    "# Sample Space"
   ]
  },
  {
   "cell_type": "code",
   "execution_count": null,
   "id": "ecb9931b",
   "metadata": {},
   "outputs": [],
   "source": [
    "'''\n",
    "A sample space S: Collection of all possible basic outcomes.\n",
    "\n",
    "Basic outcomes: The possible outocme that can occur must be:\n",
    "\n",
    "1) Mutually Exclusive: Only one basic outcome can occur. \n",
    "(two or more than two outcomes are not possible in a single exp)\n",
    "\n",
    "2) Exhaustive: One basic outcome must occur. \n",
    "(Out of all the outcome one outcome must occur, there will no chance that you will get no outcome)\n",
    "\n",
    "'''"
   ]
  },
  {
   "cell_type": "markdown",
   "id": "e23a27f8",
   "metadata": {},
   "source": [
    "# Events"
   ]
  },
  {
   "cell_type": "code",
   "execution_count": null,
   "id": "43dfa2bc",
   "metadata": {},
   "outputs": [],
   "source": [
    "'''\n",
    "An event E is the collection of basic outcomes.\n",
    "\n",
    "An event is the subset of the sample space.\n",
    "\n",
    "We say an event has occured if the outcome is contained in subset.\n",
    "\n",
    "Eg:1) Rollig a die S={1,2,3,4,5,6}\n",
    "    EVENT is where I am getting an odd number\n",
    "    \n",
    "    \n",
    "    E = {1,3,5}\n",
    "    E is the collection of odd outcomes and it is a subset of sample space.\n",
    "    \n",
    "    if die shows the outcome {1,3,5} event of odd number or E event is occurred.\n",
    "    \n",
    "    F = {2,4,6}\n",
    "    F is the collection of even outcomes and it is a subset of sample space.\n",
    "    \n",
    "    \n",
    "    \n",
    "   2) Toss a coin twice S: {HH,HT,TH,TT}\n",
    "       event is I want head on both the coin\n",
    "       E= {HH}\n",
    "\n",
    "\n",
    "'''"
   ]
  },
  {
   "cell_type": "markdown",
   "id": "9e48e8ed",
   "metadata": {},
   "source": [
    "# Union of Events "
   ]
  },
  {
   "cell_type": "code",
   "execution_count": null,
   "id": "4a199473",
   "metadata": {},
   "outputs": [],
   "source": [
    "'''\n",
    "For any two event E and F , we define the new event (E U F) called the Union of E and F. It consist of all the outcomes \n",
    "that are in either  E or in F or in both E and F. (But it does not contain duplicate elements.)\n",
    "\n",
    "OR\n",
    "'''"
   ]
  },
  {
   "cell_type": "markdown",
   "id": "3616afd3",
   "metadata": {},
   "source": [
    "# Intersection of events"
   ]
  },
  {
   "cell_type": "code",
   "execution_count": null,
   "id": "76f0ef54",
   "metadata": {},
   "outputs": [],
   "source": [
    "'''\n",
    "For any two events E and F, we define the new event (E ∩ F) called intersection events E and F to consist of all outcomes that\n",
    "are in E and in F.\n",
    "\n",
    "AND\n",
    "'''"
   ]
  },
  {
   "cell_type": "markdown",
   "id": "b9fa8d87",
   "metadata": {},
   "source": [
    "# Null Event"
   ]
  },
  {
   "cell_type": "code",
   "execution_count": null,
   "id": "8fc4eda5",
   "metadata": {},
   "outputs": [],
   "source": [
    "'''\n",
    "We call the event without any outcomes the null event. it is represented with Φ (phi)\n",
    "\n",
    "eg: Two coin toss\n",
    "    a) E1={HH,HT} (head in first toss)\n",
    "    b) E2={TH,TT} (tail in first toss)\n",
    "    c) E1 ∩ E2 = Φ = {} (Head in first toss and tail in first toss)\n",
    "    \n",
    "    \n",
    "    \n",
    "Remark: If the intersection of E and F is the null event, then E and F does not occur simulataneously, \n",
    "we say that E and F are disjoint events or mutually exclusive events.\n",
    "'''"
   ]
  },
  {
   "cell_type": "markdown",
   "id": "e5bc1fdf",
   "metadata": {},
   "source": [
    "# Complement of an Event"
   ]
  },
  {
   "cell_type": "code",
   "execution_count": null,
   "id": "90f51f75",
   "metadata": {},
   "outputs": [],
   "source": [
    "'''\n",
    "\n",
    "The complement of E denoted E^c consist of all outcomes in the sample space S that are not in E. E^c will occur if and only if \n",
    "E does not occur.\n",
    "\n",
    "eg: S={H,T}\n",
    "    E={H}, E^c={T}\n",
    "\n",
    "    S={HH,HT,TH,TT}\n",
    "    \n",
    "    E={HH,HT,TH} (at least one head)\n",
    "    \n",
    "    E^c={TT}\n",
    "    \n",
    "    E={HH,TH} (Head on second toss)\n",
    "    \n",
    "    E^c={HT, TT}\n",
    "    \n",
    "Remark: The complement of the sample space is the null set.\n",
    "        S^c=Φ\n",
    "\n",
    "'''"
   ]
  },
  {
   "cell_type": "markdown",
   "id": "a37ebfa0",
   "metadata": {},
   "source": [
    "# Three main interpretations of Probability"
   ]
  },
  {
   "cell_type": "code",
   "execution_count": null,
   "id": "14030d23",
   "metadata": {},
   "outputs": [],
   "source": [
    "'''\n",
    "\n",
    "1) Classical (Apriori or Theoratical)\n",
    "2) Relative Frequency (Aposteriori or Emperical)\n",
    "3) Subjective\n",
    "\n",
    "\n",
    "'''"
   ]
  },
  {
   "cell_type": "markdown",
   "id": "3043c2c9",
   "metadata": {},
   "source": [
    "#  Classical (Apriori or Theoratical)"
   ]
  },
  {
   "cell_type": "code",
   "execution_count": null,
   "id": "b3717bd7",
   "metadata": {},
   "outputs": [],
   "source": [
    "'''\n",
    "\n",
    "Let S be the sample space of a random experiment in which there are 'n'(number of outcomes in sample space) \n",
    "EQUALLY LIKELY outcomes and \n",
    "then an event E consist of exactly 'm'(number of outcomes in event) of these outcomes, \n",
    "then we say the probability of the event E is 'm/n' and it is represented as:\n",
    "\n",
    "                    P(E) = m/n\n",
    "                    \n",
    "Equally Likely: The chances of each outcome is same.\n",
    "\n",
    "\n",
    "\n",
    "Eg: Roll a dice. S={1,2,3,4,5,6}; n=6\n",
    "    E={2,4,6} even no. m=3\n",
    "    \n",
    "    P(E) = P(Even number)= m/n = 3/6=1/2=0.5\n",
    "    \n",
    "    F , Event is die shows the value less than 4\n",
    "    F={1,2,3,4} ; m=4\n",
    "    \n",
    "    P(F) = m/n = 4/6 = 2/3 = 0.67\n",
    "    \n",
    "    \n",
    "    F={1,2,3}; m=3\n",
    "    P(F) =3/6 = 0.5\n",
    "    \n",
    "    S={1,2,3,4,5} n=5\n",
    "    P(F)= m/n = 3/5= 0.6\n",
    "    \n",
    "\n",
    "\n",
    "'''"
   ]
  },
  {
   "cell_type": "markdown",
   "id": "70a94a0e",
   "metadata": {},
   "source": [
    "# Probability Axioms"
   ]
  },
  {
   "cell_type": "code",
   "execution_count": null,
   "id": "1acbae6b",
   "metadata": {},
   "outputs": [],
   "source": [
    "'''\n",
    "1) For any event E, the P(E) is a number between 0 and 1 i.e 0<=P(E)<=1\n",
    "\n",
    "2) The probability of a sample Space S is 1. P(S)=1. (m=n, m/n=1)\n",
    "\n",
    "    ( the probability of complement of sample sapce is P(S^c)=0)\n",
    "\n",
    "3) for a sequence of mutually exclusive(Disjoint) events, E1, E2, E3.....\n",
    "\n",
    "    The probability of union of disjoints events is equal to the sum of the probabilities of \n",
    "    these events.\n",
    "    \n",
    "    for instance, if E1 and E2 are disjoint events \n",
    "    \n",
    "        P(E1 U E2)= P(E1) + P(E2)\n",
    "        \n",
    "    if event E1 and E2 cannot simulataneously occur , then the probabilty that the outcome of the \n",
    "    experiment is contained in either E1 or E2 or is equal to the sum of the prob that it is E1 and the \n",
    "    prob that it is in E2.\n",
    "    \n",
    "'''"
   ]
  },
  {
   "cell_type": "code",
   "execution_count": null,
   "id": "e27a92dd",
   "metadata": {},
   "outputs": [],
   "source": [
    "'''\n",
    "When two events are occuring simultaneously then their probability are multiplied together,\n",
    "\n",
    "when two event are not occuring simulatenously then their probaility are added.\n",
    "\n",
    "\n",
    "\n",
    "'''"
   ]
  },
  {
   "cell_type": "markdown",
   "id": "228f9a17",
   "metadata": {},
   "source": [
    "# General properties of Probability"
   ]
  },
  {
   "cell_type": "code",
   "execution_count": null,
   "id": "357e6435",
   "metadata": {},
   "outputs": [],
   "source": [
    "'''\n",
    "\n",
    "\n",
    "1) Prob of Complement of event: P(E.comp) = 1 - P(E) \n",
    "\n",
    "2) Probability of Null event: P(Φ) = 0\n",
    "\n",
    "3) Addition rule of prob: P(E1 U E2) = P(E1) + P(E2) - P(E1 ∩ E2) #### give that E1 and E2 are not disjoint\n",
    "\n",
    "\n",
    "'''"
   ]
  },
  {
   "cell_type": "markdown",
   "id": "372349ee",
   "metadata": {},
   "source": [
    "# Equally Likely outcomes"
   ]
  },
  {
   "cell_type": "code",
   "execution_count": null,
   "id": "bb4bea6b",
   "metadata": {},
   "outputs": [],
   "source": [
    "'''\n",
    "For a certain exp we are assuming that each outcome is equally likely of the S.\n",
    "\n",
    "if S consist N values; S={1,2,3,...... N}\n",
    "\n",
    "    P({1})=P({2})=P({3})=.......=P({N})\n",
    "\n",
    "In this expression, P({i}) is the prob of the event consisting of the single outcome i.\n",
    "\n",
    "Prob of any Event A is equal to the proportion of the outcomes in the sample space that is in A.\n",
    "\n",
    "    P(A) = (No. of Outcomes in S that are in A) / N\n",
    "\n",
    "\n",
    "    eg: S={1,2,3,4,5,6}; n=6\n",
    "        A={1,3,5}; m=3\n",
    "        \n",
    "        E1={1} = 1/6\n",
    "        E2={3} = 1/6\n",
    "        E3={5}= 1/6\n",
    "        \n",
    "        A=E1 U E2 U E3\n",
    "        \n",
    "        P(A)=3/6=1/2\n",
    "        P(E1 U E2 U E3)\n",
    "        P(A)= P(E1) + P(E2) + P(E3)\n",
    "            = 1/6 + 1/6+ 1/6\n",
    "            = 3/6\n",
    "            = 1/2\n",
    "'''"
   ]
  },
  {
   "cell_type": "code",
   "execution_count": null,
   "id": "7548fa32",
   "metadata": {},
   "outputs": [],
   "source": [
    "'''\n",
    "\n",
    "eg: Prob of the card is either red or a queen.\n",
    "\n",
    "    S={Deck of 52 Card}\n",
    "    \n",
    "    R= Red card, Q= Queen Card\n",
    "    \n",
    "    \n",
    "    P(R U Q)= P(R) + P(Q) - P(R int Q)\n",
    "    \n",
    "    \n",
    "    R int Q = {Q of Heart, Q of Diamond}= C\n",
    "            \n",
    "            E1={Q of H}\n",
    "            E2={Q of D}\n",
    "            \n",
    "            P(C) = 1/52 + 1/52 = 2/52\n",
    "    \n",
    "    P(R U Q)= P(R) + P(Q) - P(R intersection Q)\n",
    "    \n",
    "    P(R)=26/52=1/2\n",
    "    \n",
    "    P(Q)=4/52 = 1/13\n",
    "    \n",
    "    P(R intersection Q) = 2/52\n",
    "    \n",
    "    P(R U Q)= 1/2 + 1/13 -1/26 = 28/52\n",
    "\n",
    "\n",
    "\n",
    "'''"
   ]
  },
  {
   "cell_type": "markdown",
   "id": "169c8404",
   "metadata": {},
   "source": [
    "# Conditional Probabilty"
   ]
  },
  {
   "cell_type": "markdown",
   "id": "00010688",
   "metadata": {},
   "source": [
    "#Contigency table "
   ]
  },
  {
   "cell_type": "code",
   "execution_count": null,
   "id": "67e53f93",
   "metadata": {},
   "outputs": [],
   "source": [
    "'''\n",
    "\n",
    "Restricting out sample space. \n",
    "\n",
    "When one event is alreadyy occured and we are trying to calculate the prob of another event.\n",
    "\n",
    "eg: Rolling a dice twice. \n",
    "\n",
    "S={(1,1),(1,2),(1,3),(1,4),(1,5),(1,6), (2,1),(2,2).......(6,6)}: n=36\n",
    "\n",
    "each outcome is equally likely to occur with prob 1/36.  \n",
    "\n",
    "Suppose further that the first of the dice lands on 4.\n",
    "\n",
    "Given this information, what is the resulting prob that the sum of the dice is 10?\n",
    "\n",
    "F={(4,1),(4,2),(4,3),(4,4),(4,5),(4,6)}: n=6\n",
    "\n",
    "F has occured\n",
    "E: Sum of dice is 10 (4,6); m=1\n",
    "P(Sum of two dice is 10 | F has occured) = ?   ############Conditional Probability\n",
    "\n",
    "P(E|F)\n",
    "If each outcome of a finite sample space is equally likely, \n",
    "then the conditional on the event that outocmes lies \n",
    "in a subset F. all outcomes of F becomes equally likely. \n",
    "In such case it is often conveintent to compute conditional prob of the P(E|F) by using F as a sample space\n",
    "\n",
    "\n",
    "\n",
    "total  Outcome n=6\n",
    "\n",
    "P(Sum of two dice is 10 | F has occured)= 1/6\n",
    "\n",
    "\n",
    "'''"
   ]
  },
  {
   "cell_type": "markdown",
   "id": "06d9b6c7",
   "metadata": {},
   "source": [
    "# Conditional Probability Formula"
   ]
  },
  {
   "cell_type": "code",
   "execution_count": null,
   "id": "45c9d4d0",
   "metadata": {},
   "outputs": [],
   "source": [
    "'''\n",
    "The Probabilty that event E occurs given that event F occured ( Or Conditional on event F occuring)\n",
    "is given by\n",
    "\n",
    "P(E|F) = P(E ∩ F)/P(F) : P(F)>0\n",
    "\n",
    "Conditional = Joint / Marginal\n",
    "\n",
    "\n",
    "Two students are selected at random (there is sampling without replacement). \n",
    "Find the probabibilty that the first student\n",
    "selected is Female and second is male when you have total 23 M and 17 F in the class.\n",
    "\n",
    "ii) What is the prob that second student is male given that first is female."
   ]
  },
  {
   "cell_type": "code",
   "execution_count": null,
   "id": "4691869d",
   "metadata": {},
   "outputs": [],
   "source": [
    "P(M | F) = "
   ]
  },
  {
   "cell_type": "code",
   "execution_count": null,
   "id": "1f25bac4",
   "metadata": {},
   "outputs": [],
   "source": [
    "total 40\n",
    "\n",
    "23 M\n",
    "17F"
   ]
  },
  {
   "cell_type": "code",
   "execution_count": null,
   "id": "50636bbf",
   "metadata": {},
   "outputs": [],
   "source": [
    "1st is female : \n",
    "    \n",
    "    total: 39\n",
    "        M : 23\n",
    "        F : 16\n",
    "            \n",
    "            what is the prob that selected person is male: 23/39"
   ]
  },
  {
   "cell_type": "code",
   "execution_count": null,
   "id": "3ee76de2",
   "metadata": {},
   "outputs": [],
   "source": [
    "Sample space: {MM, MF, FM, FF}\n",
    "Define events: First student is Female and Second is male. \n",
    "m= selected student is male\n",
    "f= selected student is female\n",
    "\n",
    "P(F1 int M2)= P(F1).P(M2|F1)\n",
    "\n",
    "\n",
    "then find the realtionship between events:\n",
    "then find the prb:\n",
    "\n",
    "\n",
    "\n",
    "'''"
   ]
  },
  {
   "cell_type": "markdown",
   "id": "23fbdcb5",
   "metadata": {},
   "source": [
    "# Product Rule / Multiplication Rule"
   ]
  },
  {
   "cell_type": "markdown",
   "id": "e2273f28",
   "metadata": {},
   "source": [
    "# Independent events "
   ]
  },
  {
   "cell_type": "code",
   "execution_count": null,
   "id": "067b1f4d",
   "metadata": {},
   "outputs": [],
   "source": [
    "'''\n",
    "\n",
    "In the caseswhere P(E|F) is equal to the P(E) we say E is indepenedent of F.\n",
    "\n",
    "Def: P(E int F) = P(F) x P(E|F) ......... multiplication rule\n",
    "\n",
    "when we have independent events: \n",
    "\n",
    "P(E int F) = P(F) x P(E)\n",
    "\n",
    "Conclusions:\n",
    "\n",
    "i) Two events are independent if P(E int F) = P(F) x P(E)\n",
    "ii) Two events are not independent if  if P(E int F) != P(F) x P(E); then the events are dependent events.\n",
    "\n",
    "\n",
    "Two events are independent if and only if the probability that both occurs(intersection) \n",
    "equals the product of their individual probability.\n",
    "\n",
    "\n",
    "\n",
    "\n",
    "\n",
    "\n",
    "\n",
    "\n",
    "\n",
    "'''\n",
    "\n",
    "\n",
    "\n",
    "\n",
    "\n"
   ]
  },
  {
   "cell_type": "code",
   "execution_count": null,
   "id": "83c504fc",
   "metadata": {},
   "outputs": [],
   "source": []
  },
  {
   "cell_type": "markdown",
   "id": "8a82be9f",
   "metadata": {},
   "source": [
    "# Bayes Theorem\n"
   ]
  },
  {
   "cell_type": "code",
   "execution_count": null,
   "id": "2245e36d",
   "metadata": {},
   "outputs": [],
   "source": [
    "'''\n",
    "Bayes' Theorem: Principle way of calculating conditional probability without the use of Joint probability.\n",
    "\n",
    "\n",
    "'''"
   ]
  }
 ],
 "metadata": {
  "kernelspec": {
   "display_name": "Python 3 (ipykernel)",
   "language": "python",
   "name": "python3"
  },
  "language_info": {
   "codemirror_mode": {
    "name": "ipython",
    "version": 3
   },
   "file_extension": ".py",
   "mimetype": "text/x-python",
   "name": "python",
   "nbconvert_exporter": "python",
   "pygments_lexer": "ipython3",
   "version": "3.11.7"
  }
 },
 "nbformat": 4,
 "nbformat_minor": 5
}
